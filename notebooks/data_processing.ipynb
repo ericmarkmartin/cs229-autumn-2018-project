{
 "cells": [
  {
   "cell_type": "code",
   "execution_count": 1,
   "metadata": {},
   "outputs": [],
   "source": [
    "import numpy as np"
   ]
  },
  {
   "cell_type": "code",
   "execution_count": 6,
   "metadata": {},
   "outputs": [],
   "source": [
    "PERIOD = '.'\n",
    "QMARK = '?'\n",
    "EXPOINT = '!'\n",
    "ALL_PUNC = [PERIOD, QMARK, EXPOINT]\n",
    "\n",
    "def is_punctuation(char):\n",
    "    return char in ALL_PUNC"
   ]
  },
  {
   "cell_type": "code",
   "execution_count": 29,
   "metadata": {},
   "outputs": [
    {
     "ename": "SyntaxError",
     "evalue": "unexpected EOF while parsing (<ipython-input-29-fd6d3bf5d846>, line 1)",
     "output_type": "error",
     "traceback": [
      "\u001b[0;36m  File \u001b[0;32m\"<ipython-input-29-fd6d3bf5d846>\"\u001b[0;36m, line \u001b[0;32m1\u001b[0m\n\u001b[0;31m    def add_word_with_comma(word):\u001b[0m\n\u001b[0m                                  ^\u001b[0m\n\u001b[0;31mSyntaxError\u001b[0m\u001b[0;31m:\u001b[0m unexpected EOF while parsing\n"
     ]
    }
   ],
   "source": [
    "def add_word_with_comma(word):\n"
   ]
  },
  {
   "cell_type": "code",
   "execution_count": 54,
   "metadata": {},
   "outputs": [],
   "source": [
    "honorifics = [\n",
    "    'Mr.',\n",
    "    'Ms.',\n",
    "    'Mrs.',\n",
    "    'Dr.',\n",
    "    'Esq.',\n",
    "    'Br.',\n",
    "    'Sr.',\n",
    "    'Jr.'\n",
    "]\n",
    "\n",
    "def get_sentences(words):\n",
    "    \"\"\"Given list of whitespace-delimited words, return list of sentences\"\"\"\n",
    "    current_sentence = None\n",
    "    sentences = []\n",
    "    \n",
    "    for word in words:        \n",
    "        first_is_upper = word[0].isupper()\n",
    "        secnd_is_upper = len(word) > 1 and word[1].isupper()\n",
    "        \n",
    "        last_is_punc = is_punctuation(word[-1])\n",
    "        penult_is_punc = len(word) > 1 and is_punctuation(word[-2])\n",
    "        \n",
    "        if len(word) > 2:\n",
    "            word = word[0] + word[1:-1].replace(\"'\", '') + word[-1]\n",
    "        \n",
    "        if current_sentence is None and (first_is_upper or secnd_is_upper):\n",
    "            current_sentence = []\n",
    "            if word[0] in ['\"', \"'\"] and len(word) > 1:\n",
    "                word = word[1:]\n",
    "\n",
    "            if last_is_punc or penult_is_punc:\n",
    "                if word in honorifics:\n",
    "                    current_sentence.append(word[:-1])\n",
    "                    continue\n",
    "\n",
    "                if last_is_punc:\n",
    "                    word, punc = word[:-1], word[-1]\n",
    "                else:\n",
    "                    word, punc = word[:-2], word[-2]\n",
    "                \n",
    "                current_sentence.append(word)\n",
    "                sentences.append((current_sentence, punc))\n",
    "                current_sentence = None\n",
    "                continue\n",
    "            \n",
    "            if word[-1] in [',', ';']:\n",
    "                current_sentence.append(word[:-1])\n",
    "                current_sentence.append(word[-1])\n",
    "                continue\n",
    "\n",
    "            current_sentence.append(word)\n",
    "            continue\n",
    "        \n",
    "        if current_sentence is not None and (last_is_punc or penult_is_punc):\n",
    "            if word in honorifics:\n",
    "                current_sentence.append(word[:-1])\n",
    "                continue\n",
    "\n",
    "            if last_is_punc:\n",
    "                word, punc = word[:-1], word[-1]\n",
    "            else:\n",
    "                word, punc = word[:-2], word[-2]    \n",
    "            current_sentence.append(word)\n",
    "            sentences.append((current_sentence, punc))\n",
    "            current_sentence = None\n",
    "            continue\n",
    "            \n",
    "        if current_sentence is not None and ('\"' in word or \"'\" in word):\n",
    "            current_sentence = None\n",
    "            continue\n",
    "        \n",
    "        if current_sentence is not None:\n",
    "            if word[-1] in [',', ';']:\n",
    "                current_sentence.append(word[:-1])\n",
    "                current_sentence.append(word[-1])\n",
    "                continue\n",
    "            current_sentence.append(word)\n",
    "    \n",
    "    return sentences"
   ]
  },
  {
   "cell_type": "code",
   "execution_count": 16,
   "metadata": {},
   "outputs": [],
   "source": [
    "sherlock = open('../data/raw/sherlock.txt').read().replace('\\n',' ')"
   ]
  },
  {
   "cell_type": "code",
   "execution_count": 12,
   "metadata": {},
   "outputs": [
    {
     "data": {
      "text/plain": [
       "568812"
      ]
     },
     "execution_count": 12,
     "metadata": {},
     "output_type": "execute_result"
    }
   ],
   "source": [
    "len(sherlock)"
   ]
  },
  {
   "cell_type": "code",
   "execution_count": 17,
   "metadata": {},
   "outputs": [
    {
     "data": {
      "text/plain": [
       "['\\ufeffProject',\n",
       " \"Gutenberg's\",\n",
       " 'The',\n",
       " 'Adventures',\n",
       " 'of',\n",
       " 'Sherlock',\n",
       " 'Holmes,',\n",
       " 'by',\n",
       " 'Arthur',\n",
       " 'Conan',\n",
       " 'Doyle',\n",
       " 'This',\n",
       " 'eBook',\n",
       " 'is',\n",
       " 'for',\n",
       " 'the',\n",
       " 'use',\n",
       " 'of',\n",
       " 'anyone',\n",
       " 'anywhere',\n",
       " 'at',\n",
       " 'no',\n",
       " 'cost',\n",
       " 'and',\n",
       " 'with',\n",
       " 'almost',\n",
       " 'no',\n",
       " 'restrictions',\n",
       " 'whatsoever.',\n",
       " 'You',\n",
       " 'may',\n",
       " 'copy',\n",
       " 'it,',\n",
       " 'give',\n",
       " 'it',\n",
       " 'away',\n",
       " 'or',\n",
       " 're-use',\n",
       " 'it',\n",
       " 'under',\n",
       " 'the',\n",
       " 'terms',\n",
       " 'of',\n",
       " 'the',\n",
       " 'Project',\n",
       " 'Gutenberg',\n",
       " 'License',\n",
       " 'included',\n",
       " 'with',\n",
       " 'this',\n",
       " 'eBook',\n",
       " 'or',\n",
       " 'online',\n",
       " 'at',\n",
       " 'www.gutenberg.net',\n",
       " 'Title:',\n",
       " 'The',\n",
       " 'Adventures',\n",
       " 'of',\n",
       " 'Sherlock',\n",
       " 'Holmes',\n",
       " 'Author:',\n",
       " 'Arthur',\n",
       " 'Conan',\n",
       " 'Doyle',\n",
       " 'Posting',\n",
       " 'Date:',\n",
       " 'April',\n",
       " '18,',\n",
       " '2011',\n",
       " '[EBook',\n",
       " '#1661]',\n",
       " 'First',\n",
       " 'Posted:',\n",
       " 'November',\n",
       " '29,',\n",
       " '2002',\n",
       " 'Language:',\n",
       " 'English',\n",
       " '***',\n",
       " 'START',\n",
       " 'OF',\n",
       " 'THIS',\n",
       " 'PROJECT',\n",
       " 'GUTENBERG',\n",
       " 'EBOOK',\n",
       " 'THE',\n",
       " 'ADVENTURES',\n",
       " 'OF',\n",
       " 'SHERLOCK',\n",
       " 'HOLMES',\n",
       " '***',\n",
       " 'Produced',\n",
       " 'by',\n",
       " 'an',\n",
       " 'anonymous',\n",
       " 'Project',\n",
       " 'Gutenberg',\n",
       " 'volunteer',\n",
       " 'and']"
      ]
     },
     "execution_count": 17,
     "metadata": {},
     "output_type": "execute_result"
    }
   ],
   "source": [
    "sherlock.split()[:100]"
   ]
  },
  {
   "cell_type": "code",
   "execution_count": 40,
   "metadata": {},
   "outputs": [
    {
     "ename": "TypeError",
     "evalue": "'>' not supported between instances of 'str' and 'int'",
     "output_type": "error",
     "traceback": [
      "\u001b[0;31m---------------------------------------------------------------------------\u001b[0m",
      "\u001b[0;31mTypeError\u001b[0m                                 Traceback (most recent call last)",
      "\u001b[0;32m<ipython-input-40-fadf14e9454b>\u001b[0m in \u001b[0;36m<module>\u001b[0;34m\u001b[0m\n\u001b[1;32m      1\u001b[0m \u001b[0msample\u001b[0m \u001b[0;34m=\u001b[0m \u001b[0msherlock\u001b[0m\u001b[0;34m.\u001b[0m\u001b[0msplit\u001b[0m\u001b[0;34m(\u001b[0m\u001b[0;34m)\u001b[0m\u001b[0;34m[\u001b[0m\u001b[0;36m1000\u001b[0m\u001b[0;34m:\u001b[0m\u001b[0;36m2000\u001b[0m\u001b[0;34m]\u001b[0m\u001b[0;34m\u001b[0m\u001b[0;34m\u001b[0m\u001b[0m\n\u001b[0;32m----> 2\u001b[0;31m \u001b[0msentences\u001b[0m \u001b[0;34m=\u001b[0m \u001b[0mget_sentences\u001b[0m\u001b[0;34m(\u001b[0m\u001b[0msample\u001b[0m\u001b[0;34m)\u001b[0m\u001b[0;34m\u001b[0m\u001b[0;34m\u001b[0m\u001b[0m\n\u001b[0m\u001b[1;32m      3\u001b[0m \u001b[0msentences\u001b[0m\u001b[0;34m[\u001b[0m\u001b[0;34m:\u001b[0m\u001b[0;36m20\u001b[0m\u001b[0;34m]\u001b[0m\u001b[0;34m\u001b[0m\u001b[0;34m\u001b[0m\u001b[0m\n",
      "\u001b[0;32m<ipython-input-39-03068270fab0>\u001b[0m in \u001b[0;36mget_sentences\u001b[0;34m(words)\u001b[0m\n\u001b[1;32m     13\u001b[0m         \u001b[0;32mif\u001b[0m \u001b[0mcurrent_sentence\u001b[0m \u001b[0;32mis\u001b[0m \u001b[0;32mNone\u001b[0m \u001b[0;32mand\u001b[0m \u001b[0;34m(\u001b[0m\u001b[0mfirst_is_upper\u001b[0m \u001b[0;32mor\u001b[0m \u001b[0msecnd_is_upper\u001b[0m\u001b[0;34m)\u001b[0m\u001b[0;34m:\u001b[0m\u001b[0;34m\u001b[0m\u001b[0;34m\u001b[0m\u001b[0m\n\u001b[1;32m     14\u001b[0m             \u001b[0mcurrent_sentence\u001b[0m \u001b[0;34m=\u001b[0m \u001b[0;34m[\u001b[0m\u001b[0;34m]\u001b[0m\u001b[0;34m\u001b[0m\u001b[0;34m\u001b[0m\u001b[0m\n\u001b[0;32m---> 15\u001b[0;31m             \u001b[0;32mif\u001b[0m \u001b[0mword\u001b[0m\u001b[0;34m[\u001b[0m\u001b[0;36m0\u001b[0m\u001b[0;34m]\u001b[0m \u001b[0;32min\u001b[0m \u001b[0;34m[\u001b[0m\u001b[0;34m'\"'\u001b[0m\u001b[0;34m,\u001b[0m \u001b[0;34m\"'\"\u001b[0m\u001b[0;34m]\u001b[0m \u001b[0;32mand\u001b[0m \u001b[0mlen\u001b[0m\u001b[0;34m(\u001b[0m\u001b[0mword\u001b[0m \u001b[0;34m>\u001b[0m \u001b[0;36m1\u001b[0m\u001b[0;34m)\u001b[0m\u001b[0;34m:\u001b[0m\u001b[0;34m\u001b[0m\u001b[0;34m\u001b[0m\u001b[0m\n\u001b[0m\u001b[1;32m     16\u001b[0m                 \u001b[0mword\u001b[0m \u001b[0;34m=\u001b[0m \u001b[0mword\u001b[0m\u001b[0;34m[\u001b[0m\u001b[0;36m1\u001b[0m\u001b[0;34m:\u001b[0m\u001b[0;34m]\u001b[0m\u001b[0;34m\u001b[0m\u001b[0;34m\u001b[0m\u001b[0m\n\u001b[1;32m     17\u001b[0m \u001b[0;34m\u001b[0m\u001b[0m\n",
      "\u001b[0;31mTypeError\u001b[0m: '>' not supported between instances of 'str' and 'int'"
     ]
    }
   ],
   "source": [
    "sample = sherlock.split()[1000:2000]\n",
    "sentences = get_sentences(sample)\n",
    "sentences[:20]"
   ]
  },
  {
   "cell_type": "code",
   "execution_count": 36,
   "metadata": {},
   "outputs": [
    {
     "data": {
      "text/plain": [
       "\"(['As', 'to', 'Mary', 'Jane', ',', 'she', 'is', 'incorrigible', ',', 'and', 'my', 'wife', 'has', 'given', 'her', 'notice', ',', 'but', 'there', ',', 'again', ',', 'I', 'fail', 'to', 'see', 'how', 'you', 'work', 'it', 'out'], '.')\""
      ]
     },
     "execution_count": 36,
     "metadata": {},
     "output_type": "execute_result"
    }
   ],
   "source": [
    "str(sentences[0])"
   ]
  },
  {
   "cell_type": "code",
   "execution_count": 55,
   "metadata": {},
   "outputs": [],
   "source": [
    "sentences_all = get_sentences(sherlock.split())\n",
    "with open('../data/processed/sherlock.txt', 'w') as file:\n",
    "    for sentence in sentences_all:\n",
    "        file.write(str(sentence) + '\\n')"
   ]
  },
  {
   "cell_type": "code",
   "execution_count": 48,
   "metadata": {},
   "outputs": [],
   "source": [
    "pnc = [sentence[1] for sentence in sentences_all]"
   ]
  },
  {
   "cell_type": "code",
   "execution_count": 46,
   "metadata": {},
   "outputs": [],
   "source": [
    "from collections import Counter"
   ]
  },
  {
   "cell_type": "code",
   "execution_count": 53,
   "metadata": {},
   "outputs": [
    {
     "data": {
      "text/plain": [
       "Counter({'.': 5574, '!': 294, '?': 643})"
      ]
     },
     "execution_count": 53,
     "metadata": {},
     "output_type": "execute_result"
    }
   ],
   "source": [
    "Counter(pnc)"
   ]
  },
  {
   "cell_type": "code",
   "execution_count": null,
   "metadata": {},
   "outputs": [],
   "source": []
  }
 ],
 "metadata": {
  "kernelspec": {
   "display_name": "Python 3",
   "language": "python",
   "name": "python3"
  },
  "language_info": {
   "codemirror_mode": {
    "name": "ipython",
    "version": 3
   },
   "file_extension": ".py",
   "mimetype": "text/x-python",
   "name": "python",
   "nbconvert_exporter": "python",
   "pygments_lexer": "ipython3",
   "version": "3.7.1"
  }
 },
 "nbformat": 4,
 "nbformat_minor": 2
}
