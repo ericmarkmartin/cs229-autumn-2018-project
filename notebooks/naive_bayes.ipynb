{
 "cells": [
  {
   "cell_type": "code",
   "execution_count": 15,
   "metadata": {},
   "outputs": [],
   "source": [
    "%load_ext autoreload\n",
    "%autoreload 2"
   ]
  },
  {
   "cell_type": "code",
   "execution_count": null,
   "metadata": {},
   "outputs": [],
   "source": [
    "import sys\n",
    "sys.path.append('..')"
   ]
  },
  {
   "cell_type": "code",
   "execution_count": 30,
   "metadata": {},
   "outputs": [],
   "source": [
    "import numpy as np"
   ]
  },
  {
   "cell_type": "code",
   "execution_count": 53,
   "metadata": {},
   "outputs": [],
   "source": [
    "from src import vectorize\n",
    "from sklearn.naive_bayes import MultinomialNB, BernoulliNB, GaussianNB\n",
    "from sklearn.metrics import classification_report"
   ]
  },
  {
   "cell_type": "code",
   "execution_count": 54,
   "metadata": {},
   "outputs": [],
   "source": [
    "%aimport -sys\n",
    "%aimport -MultinomialNB\n",
    "%aimport -BernoulliNB\n",
    "%aimport -GaussianNB\n",
    "%aimport -classification_report\n",
    "%aimport -np"
   ]
  },
  {
   "cell_type": "code",
   "execution_count": 33,
   "metadata": {},
   "outputs": [],
   "source": [
    "target_names = ['PERIOD', 'QMARK', 'EXPOINT']"
   ]
  },
  {
   "cell_type": "code",
   "execution_count": 43,
   "metadata": {},
   "outputs": [],
   "source": [
    "X, y = vectorize.tokens_to_bag_of_words('../data/processed/merged_tok.txt', one_hot_y=False)\n",
    "X_bern, y_bern = vectorize.tokens_to_binary('../data/processed/merged_tok.txt', one_hot_y=False)"
   ]
  },
  {
   "cell_type": "code",
   "execution_count": 44,
   "metadata": {},
   "outputs": [],
   "source": [
    "train, dev, test = vectorize.train_dev_test_split(X, y, 0.9, 0.05)\n",
    "train_bern, dev_bern, test_bern = vectorize.train_dev_test_split(X_bern, y_bern, 0.9, 0.05)"
   ]
  },
  {
   "cell_type": "code",
   "execution_count": 36,
   "metadata": {},
   "outputs": [
    {
     "data": {
      "text/plain": [
       "MultinomialNB(alpha=1.0, class_prior=None, fit_prior=True)"
      ]
     },
     "execution_count": 36,
     "metadata": {},
     "output_type": "execute_result"
    }
   ],
   "source": [
    "x_train, y_train = train\n",
    "y_train = y_train.ravel()\n",
    "clf_mult = MultinomialNB()\n",
    "clf_mult.fit(x_train, y_train)"
   ]
  },
  {
   "cell_type": "code",
   "execution_count": 38,
   "metadata": {},
   "outputs": [
    {
     "name": "stdout",
     "output_type": "stream",
     "text": [
      "              precision    recall  f1-score   support\n",
      "\n",
      "      PERIOD       0.82      1.00      0.90     34770\n",
      "       QMARK       0.00      0.00      0.00      3588\n",
      "     EXPOINT       0.99      0.02      0.03      4295\n",
      "\n",
      "   micro avg       0.82      0.82      0.82     42653\n",
      "   macro avg       0.60      0.34      0.31     42653\n",
      "weighted avg       0.76      0.82      0.74     42653\n",
      "\n"
     ]
    }
   ],
   "source": [
    "x_dev, y_dev = dev\n",
    "y_pred = clf_mult.predict(x_dev)\n",
    "print(classification_report(y_dev, y_pred, target_names=target_names))"
   ]
  },
  {
   "cell_type": "code",
   "execution_count": 42,
   "metadata": {},
   "outputs": [
    {
     "name": "stdout",
     "output_type": "stream",
     "text": [
      "              precision    recall  f1-score   support\n",
      "\n",
      "      PERIOD       0.82      1.00      0.90     34770\n",
      "       QMARK       0.00      0.00      0.00      3588\n",
      "     EXPOINT       0.00      0.00      0.00      4295\n",
      "\n",
      "   micro avg       0.82      0.82      0.82     42653\n",
      "   macro avg       0.27      0.33      0.30     42653\n",
      "weighted avg       0.66      0.82      0.73     42653\n",
      "\n"
     ]
    }
   ],
   "source": [
    "print(classification_report(y_dev, np.zeros_like(y_dev).astype(int), target_names=target_names))"
   ]
  },
  {
   "cell_type": "code",
   "execution_count": null,
   "metadata": {},
   "outputs": [],
   "source": [
    "train_bern, dev_bern, test_bern = vectorize.train"
   ]
  },
  {
   "cell_type": "code",
   "execution_count": 45,
   "metadata": {},
   "outputs": [
    {
     "data": {
      "text/plain": [
       "BernoulliNB(alpha=1.0, binarize=0.0, class_prior=None, fit_prior=True)"
      ]
     },
     "execution_count": 45,
     "metadata": {},
     "output_type": "execute_result"
    }
   ],
   "source": [
    "x_train_bern, y_train_bern = train_bern\n",
    "y_train_bern = y_train_bern.ravel()\n",
    "clf_bern = BernoulliNB()\n",
    "clf_bern.fit(x_train_bern, y_train_bern)"
   ]
  },
  {
   "cell_type": "code",
   "execution_count": 47,
   "metadata": {},
   "outputs": [
    {
     "name": "stdout",
     "output_type": "stream",
     "text": [
      "              precision    recall  f1-score   support\n",
      "\n",
      "      PERIOD       0.82      1.00      0.90     34770\n",
      "       QMARK       0.00      0.00      0.00      3588\n",
      "     EXPOINT       0.00      0.00      0.00      4295\n",
      "\n",
      "   micro avg       0.82      0.82      0.82     42653\n",
      "   macro avg       0.27      0.33      0.30     42653\n",
      "weighted avg       0.66      0.82      0.73     42653\n",
      "\n"
     ]
    },
    {
     "name": "stderr",
     "output_type": "stream",
     "text": [
      "/Users/ericmarkmartin/.virtualenvs/cs229-autumn-2018-project-3R6jIYo2/lib/python3.6/site-packages/sklearn/metrics/classification.py:1143: UndefinedMetricWarning: Precision and F-score are ill-defined and being set to 0.0 in labels with no predicted samples.\n",
      "  'precision', 'predicted', average, warn_for)\n"
     ]
    }
   ],
   "source": [
    "x_dev_bern, y_dev_bern = dev_bern\n",
    "y_pred_bern = clf_bern.predict(x_dev_bern)\n",
    "print(classification_report(y_dev_bern, y_pred_bern, target_names=target_names))"
   ]
  },
  {
   "cell_type": "code",
   "execution_count": 48,
   "metadata": {},
   "outputs": [
    {
     "data": {
      "text/plain": [
       "1"
      ]
     },
     "execution_count": 48,
     "metadata": {},
     "output_type": "execute_result"
    }
   ],
   "source": [
    "np.count_nonzero(clf_bern.predict(x_dev_bern))"
   ]
  },
  {
   "cell_type": "code",
   "execution_count": 50,
   "metadata": {},
   "outputs": [
    {
     "data": {
      "text/plain": [
       "array([[0, 0, 1, ..., 0, 1, 0],\n",
       "       [0, 0, 1, ..., 0, 1, 0],\n",
       "       [1, 1, 1, ..., 0, 1, 0],\n",
       "       ...,\n",
       "       [0, 0, 0, ..., 0, 1, 0],\n",
       "       [1, 1, 1, ..., 0, 1, 0],\n",
       "       [1, 1, 1, ..., 0, 1, 0]])"
      ]
     },
     "execution_count": 50,
     "metadata": {},
     "output_type": "execute_result"
    }
   ],
   "source": [
    "x_train_bern"
   ]
  },
  {
   "cell_type": "code",
   "execution_count": 51,
   "metadata": {},
   "outputs": [
    {
     "data": {
      "text/plain": [
       "BernoulliNB(alpha=1.0, binarize=0.0, class_prior=None, fit_prior=True)"
      ]
     },
     "execution_count": 51,
     "metadata": {},
     "output_type": "execute_result"
    }
   ],
   "source": [
    "clf_bern_2 = BernoulliNB()\n",
    "clf_bern_2.fit(x_train, y_train)"
   ]
  },
  {
   "cell_type": "code",
   "execution_count": 52,
   "metadata": {},
   "outputs": [
    {
     "name": "stdout",
     "output_type": "stream",
     "text": [
      "              precision    recall  f1-score   support\n",
      "\n",
      "      PERIOD       0.82      1.00      0.90     34770\n",
      "       QMARK       0.00      0.00      0.00      3588\n",
      "     EXPOINT       0.00      0.00      0.00      4295\n",
      "\n",
      "   micro avg       0.82      0.82      0.82     42653\n",
      "   macro avg       0.27      0.33      0.30     42653\n",
      "weighted avg       0.66      0.82      0.73     42653\n",
      "\n"
     ]
    },
    {
     "name": "stderr",
     "output_type": "stream",
     "text": [
      "/Users/ericmarkmartin/.virtualenvs/cs229-autumn-2018-project-3R6jIYo2/lib/python3.6/site-packages/sklearn/metrics/classification.py:1143: UndefinedMetricWarning: Precision and F-score are ill-defined and being set to 0.0 in labels with no predicted samples.\n",
      "  'precision', 'predicted', average, warn_for)\n"
     ]
    }
   ],
   "source": [
    "y_pred_bern_2 = clf_bern_2.predict(x_dev)\n",
    "print(classification_report(y_dev, y_pred_bern_2, target_names=target_names))"
   ]
  },
  {
   "cell_type": "code",
   "execution_count": 55,
   "metadata": {},
   "outputs": [
    {
     "data": {
      "text/plain": [
       "GaussianNB(priors=None, var_smoothing=1e-09)"
      ]
     },
     "execution_count": 55,
     "metadata": {},
     "output_type": "execute_result"
    }
   ],
   "source": [
    "clf_g = GaussianNB()\n",
    "clf_g.fit(x_train, y_train)"
   ]
  },
  {
   "cell_type": "code",
   "execution_count": 57,
   "metadata": {},
   "outputs": [
    {
     "name": "stdout",
     "output_type": "stream",
     "text": [
      "              precision    recall  f1-score   support\n",
      "\n",
      "      PERIOD       0.88      0.86      0.87     34770\n",
      "       QMARK       0.20      0.33      0.25      3588\n",
      "     EXPOINT       0.30      0.17      0.22      4295\n",
      "\n",
      "   micro avg       0.75      0.75      0.75     42653\n",
      "   macro avg       0.46      0.46      0.45     42653\n",
      "weighted avg       0.76      0.75      0.75     42653\n",
      "\n"
     ]
    }
   ],
   "source": [
    "y_pred_g = clf_g.predict(x_dev)\n",
    "print(classification_report(y_dev, y_pred_g, target_names=target_names))"
   ]
  },
  {
   "cell_type": "code",
   "execution_count": null,
   "metadata": {},
   "outputs": [],
   "source": []
  }
 ],
 "metadata": {
  "kernelspec": {
   "display_name": "cs229-autumn-2018-project-3R6jIYo2",
   "language": "python",
   "name": "cs229-autumn-2018-project-3r6jiyo2"
  },
  "language_info": {
   "codemirror_mode": {
    "name": "ipython",
    "version": 3
   },
   "file_extension": ".py",
   "mimetype": "text/x-python",
   "name": "python",
   "nbconvert_exporter": "python",
   "pygments_lexer": "ipython3",
   "version": "3.6.7"
  }
 },
 "nbformat": 4,
 "nbformat_minor": 2
}
